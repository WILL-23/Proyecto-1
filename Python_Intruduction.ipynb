{
  "nbformat": 4,
  "nbformat_minor": 0,
  "metadata": {
    "colab": {
      "name": "Python_Intruduction.ipynb",
      "provenance": [],
      "collapsed_sections": [],
      "include_colab_link": true
    },
    "kernelspec": {
      "name": "python3",
      "display_name": "Python 3"
    }
  },
  "cells": [
    {
      "cell_type": "markdown",
      "metadata": {
        "id": "view-in-github",
        "colab_type": "text"
      },
      "source": [
        "<a href=\"https://colab.research.google.com/github/WILL-23/Proyecto-1/blob/master/Python_Intruduction.ipynb\" target=\"_parent\"><img src=\"https://colab.research.google.com/assets/colab-badge.svg\" alt=\"Open In Colab\"/></a>"
      ]
    },
    {
      "cell_type": "markdown",
      "metadata": {
        "id": "RtSNaVpCmP7K",
        "colab_type": "text"
      },
      "source": [
        ">>>**APRENDIENDO PHYTON**"
      ]
    },
    {
      "cell_type": "markdown",
      "metadata": {
        "id": "yEdPepgRnXD1",
        "colab_type": "text"
      },
      "source": [
        "MANEJO DE OPERADORES EN PYTHON"
      ]
    },
    {
      "cell_type": "code",
      "metadata": {
        "id": "VTviDJcZnacN",
        "colab_type": "code",
        "colab": {}
      },
      "source": [
        "#Suma\n",
        "\n",
        "Num1 = int(input(\"Número 1: \"))\n",
        "Num2 = int(input(\"Numero 2: \"))\n",
        "\n",
        "result = Num1 + Num2\n",
        "\n",
        "print(\"La suma da como resultado: \", result)"
      ],
      "execution_count": null,
      "outputs": []
    },
    {
      "cell_type": "code",
      "metadata": {
        "id": "byrESqWKnc9E",
        "colab_type": "code",
        "colab": {}
      },
      "source": [
        "#Sustración\n",
        "Num1 = int(input(\"Número 1: \"))\n",
        "Num2 = int(input(\"Numero 2: \"))\n",
        "\n",
        "result = Num1 - Num2\n",
        "\n",
        "print(\"La sustración da como resultado: \", result)"
      ],
      "execution_count": null,
      "outputs": []
    },
    {
      "cell_type": "code",
      "metadata": {
        "id": "9HCs_dy0ng5N",
        "colab_type": "code",
        "colab": {}
      },
      "source": [
        "#Multiplicacion\n",
        "Num1 = int(input(\"Número 1: \"))\n",
        "Num2 = int(input(\"Numero 2: \"))\n",
        "\n",
        "result = Num1 * Num2\n",
        "\n",
        "print(\"La multiplicación da como resultado: \", result )"
      ],
      "execution_count": null,
      "outputs": []
    },
    {
      "cell_type": "code",
      "metadata": {
        "id": "I75ICMAcp2kq",
        "colab_type": "code",
        "colab": {}
      },
      "source": [
        "#Cociente\n",
        "Num1 = int(input(\"Número 1: \"))\n",
        "Num2 = int(input(\"Numero 2: \"))\n",
        "\n",
        "result = Num1 / Num2\n",
        "\n",
        "print(\"La divición da como resultado: \", result )"
      ],
      "execution_count": null,
      "outputs": []
    },
    {
      "cell_type": "code",
      "metadata": {
        "id": "xjioU2Gnp4w4",
        "colab_type": "code",
        "colab": {}
      },
      "source": [
        "#Resto\n",
        "Num1 = int(input(\"Número 1: \"))\n",
        "Num2 = int(input(\"Numero 2: \"))\n",
        "\n",
        "result = Num1 % Num2\n",
        "\n",
        "print(\"La divición da como resultado: \", result )"
      ],
      "execution_count": null,
      "outputs": []
    },
    {
      "cell_type": "code",
      "metadata": {
        "id": "Dzotb9ZlrDQo",
        "colab_type": "code",
        "colab": {}
      },
      "source": [
        "#Logaritmo\n",
        "import math\n",
        "import cmath\n",
        "\n",
        "Num1 = int(input(\"Digite un numero: \"))\n",
        "\n",
        "print(\"El resultado del logaritmo es: \", math.log(Num1))"
      ],
      "execution_count": null,
      "outputs": []
    },
    {
      "cell_type": "code",
      "metadata": {
        "id": "PvbOQnsGrGCF",
        "colab_type": "code",
        "colab": {}
      },
      "source": [
        "#Exponente\n",
        "\n",
        "Num1 = int(input(\"Número 1: \"))\n",
        "Num2 = int(input(\"Numero 2: \"))\n",
        "\n",
        "result = (pow(Num1, Num2))\n",
        "\n",
        "print(\"El resultado es: \", (result))"
      ],
      "execution_count": null,
      "outputs": []
    },
    {
      "cell_type": "markdown",
      "metadata": {
        "id": "NblLyA5orIpW",
        "colab_type": "text"
      },
      "source": [
        ">>OPERADORES LOGICOS\n",
        "\n",
        "\n",
        "\n"
      ]
    },
    {
      "cell_type": "markdown",
      "metadata": {
        "id": "i-pCjHNIntoO",
        "colab_type": "text"
      },
      "source": [
        "Ejercicio 1:\n",
        "\n",
        "\n",
        "> Escribe una función que tome como parámetros las longitudes de los dos lados más cortos de un triángulo rectángulo. Devuelve la hipotenusa del triángulo, calculada usando el teorema de Pitágoras, como resultado de la función. Incluya un programa principal que lea las longitudes de los lados más cortos de un triángulo rectángulo del usuario, utilice su función para calcular la longitud de la hipotenusa y muestre el resultado.\n",
        "\n",
        "\n",
        "\n"
      ]
    },
    {
      "cell_type": "code",
      "metadata": {
        "id": "2KtxImjinhqb",
        "colab_type": "code",
        "colab": {
          "base_uri": "https://localhost:8080/",
          "height": 67
        },
        "outputId": "b388f076-48e7-4688-af6b-567ea32f937d"
      },
      "source": [
        "import math\n",
        "\n",
        "NumA = int(input(\"Número 1: \"))\n",
        "NumB = int(input(\"Numero 2: \"))\n",
        "\n",
        "NumC = (pow(NumA, 2)) + (pow(NumB, 2)) \n",
        "Hipotenusa = math.sqrt(NumC)\n",
        "\n",
        "print(\"la Hipotenusa del triangulo es : \", str((Hipotenusa)))"
      ],
      "execution_count": null,
      "outputs": [
        {
          "output_type": "stream",
          "text": [
            "Número 1: 3\n",
            "Numero 2: 3\n",
            "la Hipotenusa del triangulo es :  4.242640687119285\n"
          ],
          "name": "stdout"
        }
      ]
    },
    {
      "cell_type": "markdown",
      "metadata": {
        "id": "akNV3cHOmWp2",
        "colab_type": "text"
      },
      "source": [
        "**Ejercicio2**\n",
        "  Dado 3 números identificar cuál  es el menor, cual es esel mayor cual es el intermedio o si hay números  iguales."
      ]
    },
    {
      "cell_type": "code",
      "metadata": {
        "id": "lo-uhL0sFyD8",
        "colab_type": "code",
        "colab": {
          "base_uri": "https://localhost:8080/",
          "height": 127
        },
        "outputId": "4c94eae8-97cb-451c-b832-0afc3c417b74"
      },
      "source": [
        "Num1 = int(input(\"Escriba un numero: \"))\n",
        "Num2 = int(input(\"Otro mas: \"))\n",
        "Num3 = int(input(\"El ultimo: \"))\n",
        "\n",
        "if (Num1 > Num2) and (Num1 > Num3):\n",
        "  Mayor = Num1\n",
        "  print(\"Mayor: \",Mayor )\n",
        "elif (Num2 > Num1) and (Num2 > Num3):\n",
        "  Mayor = Num2\n",
        "  print(\"Mayor: \",Mayor )\n",
        "else:\n",
        "  Mayor = Num3\n",
        "  print(\"Mayor: \",Mayor )\n",
        "\n",
        "\n",
        "if (Num1 == Num2) or (Num1 == Num3):\n",
        "  Igual = Num1\n",
        "  print(\"Igual: \",Igual )\n",
        "elif (Num2 == Num1) or (Num2 == Num3):\n",
        "  Igual = Num2\n",
        "  print(\"Igual: \",Igual )\n",
        "elif (Num3 == Num1) or (Num3 == Num2):\n",
        "  Igual = Num3\n",
        "  print(\"Igual: \",Igual )\n",
        "else:\n",
        "  print(\"No hay numeros iguales\")\n",
        "  \n",
        "\n"
      ],
      "execution_count": 34,
      "outputs": [
        {
          "output_type": "stream",
          "text": [
            "Escriba un numero: 77\n",
            "Otro mas: 66\n",
            "El ultimo: 77\n",
            "Mayor:  77\n",
            "Igual:  77\n",
            "Menor:  88\n"
          ],
          "name": "stdout"
        }
      ]
    },
    {
      "cell_type": "code",
      "metadata": {
        "id": "awLL7RyHJp6r",
        "colab_type": "code",
        "colab": {
          "base_uri": "https://localhost:8080/",
          "height": 90
        },
        "outputId": "19bae78f-7264-4855-ca92-1ba15a2ca84e"
      },
      "source": [
        "Num1 = int(input(\"Escriba un numero: \"))\n",
        "Num2 = int(input(\"Otro mas: \"))\n",
        "Num3 = int(input(\"El ultimo: \"))\n",
        "\n",
        "if (Num1 < Num2) and (Num1 < Num3):\n",
        "  Menor = Num1\n",
        "  print(\"Menor: \",Menor )\n",
        "elif (Num2 < Num1) and (Num2 < Num3):\n",
        "  Mayor = Num2\n",
        "  print(\"Menor: \",Menor )\n",
        "else:\n",
        "  Menor = Num3\n",
        "  print(\"Menor: \",Menor )\n"
      ],
      "execution_count": 37,
      "outputs": [
        {
          "output_type": "stream",
          "text": [
            "Escriba un numero: 7\n",
            "Otro mas: 6\n",
            "El ultimo: 5\n",
            "Menor:  5\n"
          ],
          "name": "stdout"
        }
      ]
    },
    {
      "cell_type": "code",
      "metadata": {
        "id": "5bN2V0KUmTvg",
        "colab_type": "code",
        "colab": {}
      },
      "source": [
        "numeros = []\n",
        "\n",
        "for i in range(3):\n",
        "  numero = float(input(\"Introduce el número #{}: \".format(i + 1)))\n",
        "  numeros.append(numero)\n",
        "\n",
        "mayor = numeros[0]\n",
        "\n",
        "for numero in numeros:\n",
        "    if numero > mayor:\n",
        "        mayor = numero\n",
        "\n",
        "print(\"Mayor:\", mayor)"
      ],
      "execution_count": null,
      "outputs": []
    }
  ]
}